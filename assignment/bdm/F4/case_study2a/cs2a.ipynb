{
  "cells": [
    {
      "cell_type": "markdown",
      "metadata": {
        "id": "view-in-github",
        "colab_type": "text"
      },
      "source": [
        "<a href=\"https://colab.research.google.com/github/drshahizan/Python_EDA/blob/main/assignment/bdm/F4/case_study2a/cs2a.ipynb\" target=\"_parent\"><img src=\"https://colab.research.google.com/assets/colab-badge.svg\" alt=\"Open In Colab\"/></a>"
      ]
    },
    {
      "cell_type": "markdown",
      "metadata": {
        "id": "7F8DQl5dVJJ0"
      },
      "source": [
        "# Project Title - Rental Price in Kuala Lumpur Malaysia <a href=\"https://www.utm.my\" target=\"_parent\"><img src=\"https://colab.research.google.com/assets/colab-badge.svg\" alt=\"Open In Colab\"/></a>\n",
        "\n",
        "In this project, rental prices in Kuala Lumper Malaysia will be studied in detail to obtain useful insight. The data was obtained from Kaggle where it is a webscrapping information from \"mudah\" which is a platform in Malaysia for users like renters, owner or agent to condute research and renting activities.\n",
        "\n",
        "The dataset will be studied and processed in few activities including data understanding, data preprocessing using EDA tools and data visualization based on questions may raised from renters, property owners or property agent.\n",
        "\n",
        "Project goals is to identify rental price trends,location analysis, property type comparison,bedroom count impact, data visualization.\n",
        "\n",
        "The tool & tecniques used in this proect include Pandas, NumPy, Matplotlib, Seaborn and Sweetvitz.\n",
        "\n",
        "Project Team:\n",
        "\n",
        "LYE KAH HOOI (MCS231010)\n",
        "SITI NORAFIZAH BINTI AB AZIZ (MCS231018)\n",
        "LEE SEOW MING THERESA (MCS231013)\n",
        "THONG YEE MOON (MCS231001)"
      ]
    },
    {
      "cell_type": "markdown",
      "metadata": {
        "id": "LxWzVndBVJJ1"
      },
      "source": [
        "## Downloading the Dataset\n",
        "\n",
        "The dataset can be downloaded from https://www.kaggle.com/datasets/ariewijaya/rent-pricing-kuala-lumpur-malaysi.\n",
        "\n",
        "The database was then uploaded into github. The raw link was then able to link to google colab for data analysis."
      ]
    },
    {
      "cell_type": "markdown",
      "source": [
        "### Data Loading using Pandas"
      ],
      "metadata": {
        "id": "LK6wK2b3PW90"
      }
    },
    {
      "cell_type": "code",
      "execution_count": null,
      "metadata": {
        "id": "_s6ZSPWYVJJ2"
      },
      "outputs": [],
      "source": [
        "import pandas as pd\n",
        "import numpy as np"
      ]
    },
    {
      "cell_type": "markdown",
      "metadata": {
        "id": "GhhO14GEVJJ2"
      },
      "source": [
        "Let's begin by downloading the data, and listing the files within the dataset."
      ]
    },
    {
      "cell_type": "code",
      "execution_count": null,
      "metadata": {
        "id": "90nIoWQtVJJ3",
        "colab": {
          "base_uri": "https://localhost:8080/",
          "height": 901
        },
        "outputId": "a55b29c0-7da6-4fd9-f451-6736ff4b8d4d"
      },
      "outputs": [
        {
          "output_type": "execute_result",
          "data": {
            "text/plain": [
              "      ads_id                      prop_name  completion_year  \\\n",
              "0  100323185       The Hipster @ Taman Desa           2022.0   \n",
              "1  100203973                   Segar Courts              NaN   \n",
              "2  100323128  Pangsapuri Teratak Muhibbah 2              NaN   \n",
              "3  100191767   Sentul Point Suite Apartment           2020.0   \n",
              "4   97022692                Arte Mont Kiara              NaN   \n",
              "5  100322897       Residensi Vista Wirajaya              NaN   \n",
              "6  100322962                   Sky Meridien              NaN   \n",
              "7  100322885         Arte Plus Jalan Ampang           2018.0   \n",
              "8  100322866                         Nova I           2014.0   \n",
              "9  100322863              Sofiya Residences              NaN   \n",
              "\n",
              "         monthly_rent                      location      property_type rooms  \\\n",
              "0  RM 4 200 per month     Kuala Lumpur - Taman Desa        Condominium     5   \n",
              "1  RM 2 300 per month         Kuala Lumpur - Cheras        Condominium     3   \n",
              "2  RM 1 000 per month     Kuala Lumpur - Taman Desa          Apartment     3   \n",
              "3  RM 1 700 per month         Kuala Lumpur - Sentul          Apartment     2   \n",
              "4  RM 1 299 per month     Kuala Lumpur - Mont Kiara  Service Residence     1   \n",
              "5  RM 1 500 per month        Kuala Lumpur - Setapak          Apartment     3   \n",
              "6  RM 2 900 per month         Kuala Lumpur - Sentul  Service Residence     3   \n",
              "7  RM 1 550 per month         Kuala Lumpur - Ampang  Service Residence     1   \n",
              "8  RM 1 400 per month       Kuala Lumpur - Segambut          Apartment     2   \n",
              "9  RM 1 350 per month  Kuala Lumpur - Desa ParkCity        Condominium     3   \n",
              "\n",
              "   parking  bathroom         size            furnished  \\\n",
              "0      2.0       6.0  1842 sq.ft.      Fully Furnished   \n",
              "1      1.0       2.0  1170 sq.ft.  Partially Furnished   \n",
              "2      NaN       2.0   650 sq.ft.      Fully Furnished   \n",
              "3      1.0       2.0   743 sq.ft.  Partially Furnished   \n",
              "4      1.0       1.0   494 sq.ft.        Not Furnished   \n",
              "5      1.0       2.0   884 sq.ft.  Partially Furnished   \n",
              "6      2.0       2.0   982 sq.ft.      Fully Furnished   \n",
              "7      1.0       1.0   700 sq.ft.      Fully Furnished   \n",
              "8      1.0       1.0   750 sq.ft.      Fully Furnished   \n",
              "9      1.0       2.0   862 sq.ft.  Partially Furnished   \n",
              "\n",
              "                                          facilities  \\\n",
              "0  Minimart, Gymnasium, Security, Playground, Swi...   \n",
              "1  Playground, Parking, Barbeque area, Security, ...   \n",
              "2       Minimart, Jogging Track, Lift, Swimming Pool   \n",
              "3  Parking, Playground, Swimming Pool, Squash Cou...   \n",
              "4  Parking, Security, Lift, Swimming Pool, Playgr...   \n",
              "5  Parking, Security, Lift, Swimming Pool, Playgr...   \n",
              "6  Parking, Security, Lift, Swimming Pool, Playgr...   \n",
              "7  Parking, Gymnasium, Playground, Security, Lift...   \n",
              "8  Playground, Security, Parking, Lift, Swimming ...   \n",
              "9  Playground, Security, Parking, Lift, Swimming ...   \n",
              "\n",
              "                               additional_facilities        region  \n",
              "0         Air-Cond, Cooking Allowed, Washing Machine  Kuala Lumpur  \n",
              "1            Air-Cond, Cooking Allowed, Near KTM/LRT  Kuala Lumpur  \n",
              "2                                                NaN  Kuala Lumpur  \n",
              "3     Cooking Allowed, Near KTM/LRT, Washing Machine  Kuala Lumpur  \n",
              "4                                           Air-Cond  Kuala Lumpur  \n",
              "5                      Cooking Allowed, Near KTM/LRT  Kuala Lumpur  \n",
              "6  Air-Cond, Cooking Allowed, Near KTM/LRT, Washi...  Kuala Lumpur  \n",
              "7  Air-Cond, Cooking Allowed, Near KTM/LRT, Washi...  Kuala Lumpur  \n",
              "8  Air-Cond, Cooking Allowed, Washing Machine, Ne...  Kuala Lumpur  \n",
              "9            Air-Cond, Cooking Allowed, Near KTM/LRT  Kuala Lumpur  "
            ],
            "text/html": [
              "\n",
              "  <div id=\"df-1fb64724-7190-4883-89d5-201dcecb0791\" class=\"colab-df-container\">\n",
              "    <div>\n",
              "<style scoped>\n",
              "    .dataframe tbody tr th:only-of-type {\n",
              "        vertical-align: middle;\n",
              "    }\n",
              "\n",
              "    .dataframe tbody tr th {\n",
              "        vertical-align: top;\n",
              "    }\n",
              "\n",
              "    .dataframe thead th {\n",
              "        text-align: right;\n",
              "    }\n",
              "</style>\n",
              "<table border=\"1\" class=\"dataframe\">\n",
              "  <thead>\n",
              "    <tr style=\"text-align: right;\">\n",
              "      <th></th>\n",
              "      <th>ads_id</th>\n",
              "      <th>prop_name</th>\n",
              "      <th>completion_year</th>\n",
              "      <th>monthly_rent</th>\n",
              "      <th>location</th>\n",
              "      <th>property_type</th>\n",
              "      <th>rooms</th>\n",
              "      <th>parking</th>\n",
              "      <th>bathroom</th>\n",
              "      <th>size</th>\n",
              "      <th>furnished</th>\n",
              "      <th>facilities</th>\n",
              "      <th>additional_facilities</th>\n",
              "      <th>region</th>\n",
              "    </tr>\n",
              "  </thead>\n",
              "  <tbody>\n",
              "    <tr>\n",
              "      <th>0</th>\n",
              "      <td>100323185</td>\n",
              "      <td>The Hipster @ Taman Desa</td>\n",
              "      <td>2022.0</td>\n",
              "      <td>RM 4 200 per month</td>\n",
              "      <td>Kuala Lumpur - Taman Desa</td>\n",
              "      <td>Condominium</td>\n",
              "      <td>5</td>\n",
              "      <td>2.0</td>\n",
              "      <td>6.0</td>\n",
              "      <td>1842 sq.ft.</td>\n",
              "      <td>Fully Furnished</td>\n",
              "      <td>Minimart, Gymnasium, Security, Playground, Swi...</td>\n",
              "      <td>Air-Cond, Cooking Allowed, Washing Machine</td>\n",
              "      <td>Kuala Lumpur</td>\n",
              "    </tr>\n",
              "    <tr>\n",
              "      <th>1</th>\n",
              "      <td>100203973</td>\n",
              "      <td>Segar Courts</td>\n",
              "      <td>NaN</td>\n",
              "      <td>RM 2 300 per month</td>\n",
              "      <td>Kuala Lumpur - Cheras</td>\n",
              "      <td>Condominium</td>\n",
              "      <td>3</td>\n",
              "      <td>1.0</td>\n",
              "      <td>2.0</td>\n",
              "      <td>1170 sq.ft.</td>\n",
              "      <td>Partially Furnished</td>\n",
              "      <td>Playground, Parking, Barbeque area, Security, ...</td>\n",
              "      <td>Air-Cond, Cooking Allowed, Near KTM/LRT</td>\n",
              "      <td>Kuala Lumpur</td>\n",
              "    </tr>\n",
              "    <tr>\n",
              "      <th>2</th>\n",
              "      <td>100323128</td>\n",
              "      <td>Pangsapuri Teratak Muhibbah 2</td>\n",
              "      <td>NaN</td>\n",
              "      <td>RM 1 000 per month</td>\n",
              "      <td>Kuala Lumpur - Taman Desa</td>\n",
              "      <td>Apartment</td>\n",
              "      <td>3</td>\n",
              "      <td>NaN</td>\n",
              "      <td>2.0</td>\n",
              "      <td>650 sq.ft.</td>\n",
              "      <td>Fully Furnished</td>\n",
              "      <td>Minimart, Jogging Track, Lift, Swimming Pool</td>\n",
              "      <td>NaN</td>\n",
              "      <td>Kuala Lumpur</td>\n",
              "    </tr>\n",
              "    <tr>\n",
              "      <th>3</th>\n",
              "      <td>100191767</td>\n",
              "      <td>Sentul Point Suite Apartment</td>\n",
              "      <td>2020.0</td>\n",
              "      <td>RM 1 700 per month</td>\n",
              "      <td>Kuala Lumpur - Sentul</td>\n",
              "      <td>Apartment</td>\n",
              "      <td>2</td>\n",
              "      <td>1.0</td>\n",
              "      <td>2.0</td>\n",
              "      <td>743 sq.ft.</td>\n",
              "      <td>Partially Furnished</td>\n",
              "      <td>Parking, Playground, Swimming Pool, Squash Cou...</td>\n",
              "      <td>Cooking Allowed, Near KTM/LRT, Washing Machine</td>\n",
              "      <td>Kuala Lumpur</td>\n",
              "    </tr>\n",
              "    <tr>\n",
              "      <th>4</th>\n",
              "      <td>97022692</td>\n",
              "      <td>Arte Mont Kiara</td>\n",
              "      <td>NaN</td>\n",
              "      <td>RM 1 299 per month</td>\n",
              "      <td>Kuala Lumpur - Mont Kiara</td>\n",
              "      <td>Service Residence</td>\n",
              "      <td>1</td>\n",
              "      <td>1.0</td>\n",
              "      <td>1.0</td>\n",
              "      <td>494 sq.ft.</td>\n",
              "      <td>Not Furnished</td>\n",
              "      <td>Parking, Security, Lift, Swimming Pool, Playgr...</td>\n",
              "      <td>Air-Cond</td>\n",
              "      <td>Kuala Lumpur</td>\n",
              "    </tr>\n",
              "    <tr>\n",
              "      <th>5</th>\n",
              "      <td>100322897</td>\n",
              "      <td>Residensi Vista Wirajaya</td>\n",
              "      <td>NaN</td>\n",
              "      <td>RM 1 500 per month</td>\n",
              "      <td>Kuala Lumpur - Setapak</td>\n",
              "      <td>Apartment</td>\n",
              "      <td>3</td>\n",
              "      <td>1.0</td>\n",
              "      <td>2.0</td>\n",
              "      <td>884 sq.ft.</td>\n",
              "      <td>Partially Furnished</td>\n",
              "      <td>Parking, Security, Lift, Swimming Pool, Playgr...</td>\n",
              "      <td>Cooking Allowed, Near KTM/LRT</td>\n",
              "      <td>Kuala Lumpur</td>\n",
              "    </tr>\n",
              "    <tr>\n",
              "      <th>6</th>\n",
              "      <td>100322962</td>\n",
              "      <td>Sky Meridien</td>\n",
              "      <td>NaN</td>\n",
              "      <td>RM 2 900 per month</td>\n",
              "      <td>Kuala Lumpur - Sentul</td>\n",
              "      <td>Service Residence</td>\n",
              "      <td>3</td>\n",
              "      <td>2.0</td>\n",
              "      <td>2.0</td>\n",
              "      <td>982 sq.ft.</td>\n",
              "      <td>Fully Furnished</td>\n",
              "      <td>Parking, Security, Lift, Swimming Pool, Playgr...</td>\n",
              "      <td>Air-Cond, Cooking Allowed, Near KTM/LRT, Washi...</td>\n",
              "      <td>Kuala Lumpur</td>\n",
              "    </tr>\n",
              "    <tr>\n",
              "      <th>7</th>\n",
              "      <td>100322885</td>\n",
              "      <td>Arte Plus Jalan Ampang</td>\n",
              "      <td>2018.0</td>\n",
              "      <td>RM 1 550 per month</td>\n",
              "      <td>Kuala Lumpur - Ampang</td>\n",
              "      <td>Service Residence</td>\n",
              "      <td>1</td>\n",
              "      <td>1.0</td>\n",
              "      <td>1.0</td>\n",
              "      <td>700 sq.ft.</td>\n",
              "      <td>Fully Furnished</td>\n",
              "      <td>Parking, Gymnasium, Playground, Security, Lift...</td>\n",
              "      <td>Air-Cond, Cooking Allowed, Near KTM/LRT, Washi...</td>\n",
              "      <td>Kuala Lumpur</td>\n",
              "    </tr>\n",
              "    <tr>\n",
              "      <th>8</th>\n",
              "      <td>100322866</td>\n",
              "      <td>Nova I</td>\n",
              "      <td>2014.0</td>\n",
              "      <td>RM 1 400 per month</td>\n",
              "      <td>Kuala Lumpur - Segambut</td>\n",
              "      <td>Apartment</td>\n",
              "      <td>2</td>\n",
              "      <td>1.0</td>\n",
              "      <td>1.0</td>\n",
              "      <td>750 sq.ft.</td>\n",
              "      <td>Fully Furnished</td>\n",
              "      <td>Playground, Security, Parking, Lift, Swimming ...</td>\n",
              "      <td>Air-Cond, Cooking Allowed, Washing Machine, Ne...</td>\n",
              "      <td>Kuala Lumpur</td>\n",
              "    </tr>\n",
              "    <tr>\n",
              "      <th>9</th>\n",
              "      <td>100322863</td>\n",
              "      <td>Sofiya Residences</td>\n",
              "      <td>NaN</td>\n",
              "      <td>RM 1 350 per month</td>\n",
              "      <td>Kuala Lumpur - Desa ParkCity</td>\n",
              "      <td>Condominium</td>\n",
              "      <td>3</td>\n",
              "      <td>1.0</td>\n",
              "      <td>2.0</td>\n",
              "      <td>862 sq.ft.</td>\n",
              "      <td>Partially Furnished</td>\n",
              "      <td>Playground, Security, Parking, Lift, Swimming ...</td>\n",
              "      <td>Air-Cond, Cooking Allowed, Near KTM/LRT</td>\n",
              "      <td>Kuala Lumpur</td>\n",
              "    </tr>\n",
              "  </tbody>\n",
              "</table>\n",
              "</div>\n",
              "    <div class=\"colab-df-buttons\">\n",
              "\n",
              "  <div class=\"colab-df-container\">\n",
              "    <button class=\"colab-df-convert\" onclick=\"convertToInteractive('df-1fb64724-7190-4883-89d5-201dcecb0791')\"\n",
              "            title=\"Convert this dataframe to an interactive table.\"\n",
              "            style=\"display:none;\">\n",
              "\n",
              "  <svg xmlns=\"http://www.w3.org/2000/svg\" height=\"24px\" viewBox=\"0 -960 960 960\">\n",
              "    <path d=\"M120-120v-720h720v720H120Zm60-500h600v-160H180v160Zm220 220h160v-160H400v160Zm0 220h160v-160H400v160ZM180-400h160v-160H180v160Zm440 0h160v-160H620v160ZM180-180h160v-160H180v160Zm440 0h160v-160H620v160Z\"/>\n",
              "  </svg>\n",
              "    </button>\n",
              "\n",
              "  <style>\n",
              "    .colab-df-container {\n",
              "      display:flex;\n",
              "      gap: 12px;\n",
              "    }\n",
              "\n",
              "    .colab-df-convert {\n",
              "      background-color: #E8F0FE;\n",
              "      border: none;\n",
              "      border-radius: 50%;\n",
              "      cursor: pointer;\n",
              "      display: none;\n",
              "      fill: #1967D2;\n",
              "      height: 32px;\n",
              "      padding: 0 0 0 0;\n",
              "      width: 32px;\n",
              "    }\n",
              "\n",
              "    .colab-df-convert:hover {\n",
              "      background-color: #E2EBFA;\n",
              "      box-shadow: 0px 1px 2px rgba(60, 64, 67, 0.3), 0px 1px 3px 1px rgba(60, 64, 67, 0.15);\n",
              "      fill: #174EA6;\n",
              "    }\n",
              "\n",
              "    .colab-df-buttons div {\n",
              "      margin-bottom: 4px;\n",
              "    }\n",
              "\n",
              "    [theme=dark] .colab-df-convert {\n",
              "      background-color: #3B4455;\n",
              "      fill: #D2E3FC;\n",
              "    }\n",
              "\n",
              "    [theme=dark] .colab-df-convert:hover {\n",
              "      background-color: #434B5C;\n",
              "      box-shadow: 0px 1px 3px 1px rgba(0, 0, 0, 0.15);\n",
              "      filter: drop-shadow(0px 1px 2px rgba(0, 0, 0, 0.3));\n",
              "      fill: #FFFFFF;\n",
              "    }\n",
              "  </style>\n",
              "\n",
              "    <script>\n",
              "      const buttonEl =\n",
              "        document.querySelector('#df-1fb64724-7190-4883-89d5-201dcecb0791 button.colab-df-convert');\n",
              "      buttonEl.style.display =\n",
              "        google.colab.kernel.accessAllowed ? 'block' : 'none';\n",
              "\n",
              "      async function convertToInteractive(key) {\n",
              "        const element = document.querySelector('#df-1fb64724-7190-4883-89d5-201dcecb0791');\n",
              "        const dataTable =\n",
              "          await google.colab.kernel.invokeFunction('convertToInteractive',\n",
              "                                                    [key], {});\n",
              "        if (!dataTable) return;\n",
              "\n",
              "        const docLinkHtml = 'Like what you see? Visit the ' +\n",
              "          '<a target=\"_blank\" href=https://colab.research.google.com/notebooks/data_table.ipynb>data table notebook</a>'\n",
              "          + ' to learn more about interactive tables.';\n",
              "        element.innerHTML = '';\n",
              "        dataTable['output_type'] = 'display_data';\n",
              "        await google.colab.output.renderOutput(dataTable, element);\n",
              "        const docLink = document.createElement('div');\n",
              "        docLink.innerHTML = docLinkHtml;\n",
              "        element.appendChild(docLink);\n",
              "      }\n",
              "    </script>\n",
              "  </div>\n",
              "\n",
              "\n",
              "<div id=\"df-4c013a28-8f22-4a30-af1e-732fda253e9a\">\n",
              "  <button class=\"colab-df-quickchart\" onclick=\"quickchart('df-4c013a28-8f22-4a30-af1e-732fda253e9a')\"\n",
              "            title=\"Suggest charts.\"\n",
              "            style=\"display:none;\">\n",
              "\n",
              "<svg xmlns=\"http://www.w3.org/2000/svg\" height=\"24px\"viewBox=\"0 0 24 24\"\n",
              "     width=\"24px\">\n",
              "    <g>\n",
              "        <path d=\"M19 3H5c-1.1 0-2 .9-2 2v14c0 1.1.9 2 2 2h14c1.1 0 2-.9 2-2V5c0-1.1-.9-2-2-2zM9 17H7v-7h2v7zm4 0h-2V7h2v10zm4 0h-2v-4h2v4z\"/>\n",
              "    </g>\n",
              "</svg>\n",
              "  </button>\n",
              "\n",
              "<style>\n",
              "  .colab-df-quickchart {\n",
              "      --bg-color: #E8F0FE;\n",
              "      --fill-color: #1967D2;\n",
              "      --hover-bg-color: #E2EBFA;\n",
              "      --hover-fill-color: #174EA6;\n",
              "      --disabled-fill-color: #AAA;\n",
              "      --disabled-bg-color: #DDD;\n",
              "  }\n",
              "\n",
              "  [theme=dark] .colab-df-quickchart {\n",
              "      --bg-color: #3B4455;\n",
              "      --fill-color: #D2E3FC;\n",
              "      --hover-bg-color: #434B5C;\n",
              "      --hover-fill-color: #FFFFFF;\n",
              "      --disabled-bg-color: #3B4455;\n",
              "      --disabled-fill-color: #666;\n",
              "  }\n",
              "\n",
              "  .colab-df-quickchart {\n",
              "    background-color: var(--bg-color);\n",
              "    border: none;\n",
              "    border-radius: 50%;\n",
              "    cursor: pointer;\n",
              "    display: none;\n",
              "    fill: var(--fill-color);\n",
              "    height: 32px;\n",
              "    padding: 0;\n",
              "    width: 32px;\n",
              "  }\n",
              "\n",
              "  .colab-df-quickchart:hover {\n",
              "    background-color: var(--hover-bg-color);\n",
              "    box-shadow: 0 1px 2px rgba(60, 64, 67, 0.3), 0 1px 3px 1px rgba(60, 64, 67, 0.15);\n",
              "    fill: var(--button-hover-fill-color);\n",
              "  }\n",
              "\n",
              "  .colab-df-quickchart-complete:disabled,\n",
              "  .colab-df-quickchart-complete:disabled:hover {\n",
              "    background-color: var(--disabled-bg-color);\n",
              "    fill: var(--disabled-fill-color);\n",
              "    box-shadow: none;\n",
              "  }\n",
              "\n",
              "  .colab-df-spinner {\n",
              "    border: 2px solid var(--fill-color);\n",
              "    border-color: transparent;\n",
              "    border-bottom-color: var(--fill-color);\n",
              "    animation:\n",
              "      spin 1s steps(1) infinite;\n",
              "  }\n",
              "\n",
              "  @keyframes spin {\n",
              "    0% {\n",
              "      border-color: transparent;\n",
              "      border-bottom-color: var(--fill-color);\n",
              "      border-left-color: var(--fill-color);\n",
              "    }\n",
              "    20% {\n",
              "      border-color: transparent;\n",
              "      border-left-color: var(--fill-color);\n",
              "      border-top-color: var(--fill-color);\n",
              "    }\n",
              "    30% {\n",
              "      border-color: transparent;\n",
              "      border-left-color: var(--fill-color);\n",
              "      border-top-color: var(--fill-color);\n",
              "      border-right-color: var(--fill-color);\n",
              "    }\n",
              "    40% {\n",
              "      border-color: transparent;\n",
              "      border-right-color: var(--fill-color);\n",
              "      border-top-color: var(--fill-color);\n",
              "    }\n",
              "    60% {\n",
              "      border-color: transparent;\n",
              "      border-right-color: var(--fill-color);\n",
              "    }\n",
              "    80% {\n",
              "      border-color: transparent;\n",
              "      border-right-color: var(--fill-color);\n",
              "      border-bottom-color: var(--fill-color);\n",
              "    }\n",
              "    90% {\n",
              "      border-color: transparent;\n",
              "      border-bottom-color: var(--fill-color);\n",
              "    }\n",
              "  }\n",
              "</style>\n",
              "\n",
              "  <script>\n",
              "    async function quickchart(key) {\n",
              "      const quickchartButtonEl =\n",
              "        document.querySelector('#' + key + ' button');\n",
              "      quickchartButtonEl.disabled = true;  // To prevent multiple clicks.\n",
              "      quickchartButtonEl.classList.add('colab-df-spinner');\n",
              "      try {\n",
              "        const charts = await google.colab.kernel.invokeFunction(\n",
              "            'suggestCharts', [key], {});\n",
              "      } catch (error) {\n",
              "        console.error('Error during call to suggestCharts:', error);\n",
              "      }\n",
              "      quickchartButtonEl.classList.remove('colab-df-spinner');\n",
              "      quickchartButtonEl.classList.add('colab-df-quickchart-complete');\n",
              "    }\n",
              "    (() => {\n",
              "      let quickchartButtonEl =\n",
              "        document.querySelector('#df-4c013a28-8f22-4a30-af1e-732fda253e9a button');\n",
              "      quickchartButtonEl.style.display =\n",
              "        google.colab.kernel.accessAllowed ? 'block' : 'none';\n",
              "    })();\n",
              "  </script>\n",
              "</div>\n",
              "    </div>\n",
              "  </div>\n"
            ]
          },
          "metadata": {},
          "execution_count": 4
        }
      ],
      "source": [
        "\n",
        "df = pd.read_csv('https://raw.githubusercontent.com/drshahizan/Python_EDA/main/assignment/bdm/F4/mudah-apartment-kl-selangor.csv')\n",
        "df.head(10)"
      ]
    },
    {
      "cell_type": "code",
      "execution_count": null,
      "metadata": {
        "id": "oAVmLuq2VJJ3"
      },
      "outputs": [],
      "source": []
    },
    {
      "cell_type": "markdown",
      "metadata": {
        "id": "XXnPmr-JVJJ3"
      },
      "source": [
        "The dataset has been downloaded and extracted."
      ]
    },
    {
      "cell_type": "code",
      "execution_count": null,
      "metadata": {
        "id": "uowAPeffVJJ4"
      },
      "outputs": [],
      "source": []
    },
    {
      "cell_type": "code",
      "execution_count": null,
      "metadata": {
        "id": "BEVbTciwVJJ4"
      },
      "outputs": [],
      "source": []
    },
    {
      "cell_type": "markdown",
      "metadata": {
        "id": "Jnx4zelxVJJ4"
      },
      "source": [
        "Next step"
      ]
    },
    {
      "cell_type": "code",
      "execution_count": 1,
      "metadata": {
        "id": "nqciugWLVJJ4",
        "colab": {
          "base_uri": "https://localhost:8080/"
        },
        "outputId": "801fa8dd-f3dd-4d67-bcdc-c529e7f48a9c"
      },
      "outputs": [
        {
          "output_type": "stream",
          "name": "stdout",
          "text": [
            "Collecting dtale\n",
            "  Downloading dtale-3.7.0-py2.py3-none-any.whl (14.2 MB)\n",
            "\u001b[2K     \u001b[90m━━━━━━━━━━━━━━━━━━━━━━━━━━━━━━━━━━━━━━━━\u001b[0m \u001b[32m14.2/14.2 MB\u001b[0m \u001b[31m44.7 MB/s\u001b[0m eta \u001b[36m0:00:00\u001b[0m\n",
            "\u001b[?25hCollecting dash-colorscales (from dtale)\n",
            "  Downloading dash_colorscales-0.0.4.tar.gz (62 kB)\n",
            "\u001b[2K     \u001b[90m━━━━━━━━━━━━━━━━━━━━━━━━━━━━━━━━━━━━━━━━\u001b[0m \u001b[32m62.3/62.3 kB\u001b[0m \u001b[31m9.9 MB/s\u001b[0m eta \u001b[36m0:00:00\u001b[0m\n",
            "\u001b[?25h  Preparing metadata (setup.py) ... \u001b[?25l\u001b[?25hdone\n",
            "Collecting dash-daq (from dtale)\n",
            "  Downloading dash_daq-0.5.0.tar.gz (642 kB)\n",
            "\u001b[2K     \u001b[90m━━━━━━━━━━━━━━━━━━━━━━━━━━━━━━━━━━━━━━━━\u001b[0m \u001b[32m642.7/642.7 kB\u001b[0m \u001b[31m39.6 MB/s\u001b[0m eta \u001b[36m0:00:00\u001b[0m\n",
            "\u001b[?25h  Preparing metadata (setup.py) ... \u001b[?25l\u001b[?25hdone\n",
            "Collecting Flask-Compress (from dtale)\n",
            "  Downloading Flask_Compress-1.14-py3-none-any.whl (8.4 kB)\n",
            "Requirement already satisfied: future>=0.14.0 in /usr/local/lib/python3.10/dist-packages (from dtale) (0.18.3)\n",
            "Collecting kaleido (from dtale)\n",
            "  Downloading kaleido-0.2.1-py2.py3-none-manylinux1_x86_64.whl (79.9 MB)\n",
            "\u001b[2K     \u001b[90m━━━━━━━━━━━━━━━━━━━━━━━━━━━━━━━━━━━━━━━━\u001b[0m \u001b[32m79.9/79.9 MB\u001b[0m \u001b[31m12.1 MB/s\u001b[0m eta \u001b[36m0:00:00\u001b[0m\n",
            "\u001b[?25hRequirement already satisfied: missingno in /usr/local/lib/python3.10/dist-packages (from dtale) (0.5.2)\n",
            "Requirement already satisfied: pandas in /usr/local/lib/python3.10/dist-packages (from dtale) (1.5.3)\n",
            "Collecting squarify (from dtale)\n",
            "  Downloading squarify-0.4.3-py3-none-any.whl (4.3 kB)\n",
            "Collecting strsimpy (from dtale)\n",
            "  Downloading strsimpy-0.2.1-py3-none-any.whl (45 kB)\n",
            "\u001b[2K     \u001b[90m━━━━━━━━━━━━━━━━━━━━━━━━━━━━━━━━━━━━━━━━\u001b[0m \u001b[32m45.9/45.9 kB\u001b[0m \u001b[31m8.1 MB/s\u001b[0m eta \u001b[36m0:00:00\u001b[0m\n",
            "\u001b[?25hRequirement already satisfied: six in /usr/local/lib/python3.10/dist-packages (from dtale) (1.16.0)\n",
            "Requirement already satisfied: xlrd in /usr/local/lib/python3.10/dist-packages (from dtale) (2.0.1)\n",
            "Requirement already satisfied: beautifulsoup4 in /usr/local/lib/python3.10/dist-packages (from dtale) (4.11.2)\n",
            "Requirement already satisfied: certifi in /usr/local/lib/python3.10/dist-packages (from dtale) (2023.7.22)\n",
            "Collecting flask-ngrok (from dtale)\n",
            "  Downloading flask_ngrok-0.0.25-py3-none-any.whl (3.1 kB)\n",
            "Collecting lz4 (from dtale)\n",
            "  Downloading lz4-4.3.2-cp310-cp310-manylinux_2_17_x86_64.manylinux2014_x86_64.whl (1.3 MB)\n",
            "\u001b[2K     \u001b[90m━━━━━━━━━━━━━━━━━━━━━━━━━━━━━━━━━━━━━━━━\u001b[0m \u001b[32m1.3/1.3 MB\u001b[0m \u001b[31m30.9 MB/s\u001b[0m eta \u001b[36m0:00:00\u001b[0m\n",
            "\u001b[?25hRequirement already satisfied: cycler in /usr/local/lib/python3.10/dist-packages (from dtale) (0.12.1)\n",
            "Collecting dash-bootstrap-components<=1.3.1 (from dtale)\n",
            "  Downloading dash_bootstrap_components-1.3.1-py3-none-any.whl (219 kB)\n",
            "\u001b[2K     \u001b[90m━━━━━━━━━━━━━━━━━━━━━━━━━━━━━━━━━━━━━━━━\u001b[0m \u001b[32m219.7/219.7 kB\u001b[0m \u001b[31m11.6 MB/s\u001b[0m eta \u001b[36m0:00:00\u001b[0m\n",
            "\u001b[?25hRequirement already satisfied: networkx in /usr/local/lib/python3.10/dist-packages (from dtale) (3.2.1)\n",
            "Requirement already satisfied: scikit-learn in /usr/local/lib/python3.10/dist-packages (from dtale) (1.2.2)\n",
            "Requirement already satisfied: seaborn in /usr/local/lib/python3.10/dist-packages (from dtale) (0.12.2)\n",
            "Requirement already satisfied: statsmodels in /usr/local/lib/python3.10/dist-packages (from dtale) (0.14.0)\n",
            "Requirement already satisfied: numpy in /usr/local/lib/python3.10/dist-packages (from dtale) (1.23.5)\n",
            "Requirement already satisfied: openpyxl!=3.2.0b1 in /usr/local/lib/python3.10/dist-packages (from dtale) (3.1.2)\n",
            "Requirement already satisfied: xarray in /usr/local/lib/python3.10/dist-packages (from dtale) (2023.7.0)\n",
            "Collecting dash (from dtale)\n",
            "  Downloading dash-2.14.1-py3-none-any.whl (10.4 MB)\n",
            "\u001b[2K     \u001b[90m━━━━━━━━━━━━━━━━━━━━━━━━━━━━━━━━━━━━━━━━\u001b[0m \u001b[32m10.4/10.4 MB\u001b[0m \u001b[31m36.8 MB/s\u001b[0m eta \u001b[36m0:00:00\u001b[0m\n",
            "\u001b[?25hRequirement already satisfied: et-xmlfile in /usr/local/lib/python3.10/dist-packages (from dtale) (1.1.0)\n",
            "Requirement already satisfied: plotly in /usr/local/lib/python3.10/dist-packages (from dtale) (5.15.0)\n",
            "Requirement already satisfied: Flask<2.3 in /usr/local/lib/python3.10/dist-packages (from dtale) (2.2.5)\n",
            "Requirement already satisfied: itsdangerous in /usr/local/lib/python3.10/dist-packages (from dtale) (2.1.2)\n",
            "Requirement already satisfied: requests in /usr/local/lib/python3.10/dist-packages (from dtale) (2.31.0)\n",
            "Collecting werkzeug<2.3 (from dtale)\n",
            "  Downloading Werkzeug-2.2.3-py3-none-any.whl (233 kB)\n",
            "\u001b[2K     \u001b[90m━━━━━━━━━━━━━━━━━━━━━━━━━━━━━━━━━━━━━━━━\u001b[0m \u001b[32m233.6/233.6 kB\u001b[0m \u001b[31m21.9 MB/s\u001b[0m eta \u001b[36m0:00:00\u001b[0m\n",
            "\u001b[?25hRequirement already satisfied: matplotlib in /usr/local/lib/python3.10/dist-packages (from dtale) (3.7.1)\n",
            "Requirement already satisfied: scipy in /usr/local/lib/python3.10/dist-packages (from dtale) (1.11.3)\n",
            "Collecting dash-html-components==2.0.0 (from dash->dtale)\n",
            "  Downloading dash_html_components-2.0.0-py3-none-any.whl (4.1 kB)\n",
            "Collecting dash-core-components==2.0.0 (from dash->dtale)\n",
            "  Downloading dash_core_components-2.0.0-py3-none-any.whl (3.8 kB)\n",
            "Collecting dash-table==5.0.0 (from dash->dtale)\n",
            "  Downloading dash_table-5.0.0-py3-none-any.whl (3.9 kB)\n",
            "Requirement already satisfied: typing-extensions>=4.1.1 in /usr/local/lib/python3.10/dist-packages (from dash->dtale) (4.5.0)\n",
            "Collecting retrying (from dash->dtale)\n",
            "  Downloading retrying-1.3.4-py3-none-any.whl (11 kB)\n",
            "Collecting ansi2html (from dash->dtale)\n",
            "  Downloading ansi2html-1.8.0-py3-none-any.whl (16 kB)\n",
            "Requirement already satisfied: nest-asyncio in /usr/local/lib/python3.10/dist-packages (from dash->dtale) (1.5.8)\n",
            "Requirement already satisfied: setuptools in /usr/local/lib/python3.10/dist-packages (from dash->dtale) (67.7.2)\n",
            "Requirement already satisfied: importlib-metadata in /usr/local/lib/python3.10/dist-packages (from dash->dtale) (6.8.0)\n",
            "Requirement already satisfied: Jinja2>=3.0 in /usr/local/lib/python3.10/dist-packages (from Flask<2.3->dtale) (3.1.2)\n",
            "Requirement already satisfied: click>=8.0 in /usr/local/lib/python3.10/dist-packages (from Flask<2.3->dtale) (8.1.7)\n",
            "Requirement already satisfied: tenacity>=6.2.0 in /usr/local/lib/python3.10/dist-packages (from plotly->dtale) (8.2.3)\n",
            "Requirement already satisfied: packaging in /usr/local/lib/python3.10/dist-packages (from plotly->dtale) (23.2)\n",
            "Requirement already satisfied: MarkupSafe>=2.1.1 in /usr/local/lib/python3.10/dist-packages (from werkzeug<2.3->dtale) (2.1.3)\n",
            "Requirement already satisfied: soupsieve>1.2 in /usr/local/lib/python3.10/dist-packages (from beautifulsoup4->dtale) (2.5)\n",
            "Collecting brotli (from Flask-Compress->dtale)\n",
            "  Downloading Brotli-1.1.0-cp310-cp310-manylinux_2_5_x86_64.manylinux1_x86_64.manylinux_2_12_x86_64.manylinux2010_x86_64.whl (3.0 MB)\n",
            "\u001b[2K     \u001b[90m━━━━━━━━━━━━━━━━━━━━━━━━━━━━━━━━━━━━━━━━\u001b[0m \u001b[32m3.0/3.0 MB\u001b[0m \u001b[31m76.6 MB/s\u001b[0m eta \u001b[36m0:00:00\u001b[0m\n",
            "\u001b[?25hRequirement already satisfied: contourpy>=1.0.1 in /usr/local/lib/python3.10/dist-packages (from matplotlib->dtale) (1.2.0)\n",
            "Requirement already satisfied: fonttools>=4.22.0 in /usr/local/lib/python3.10/dist-packages (from matplotlib->dtale) (4.44.0)\n",
            "Requirement already satisfied: kiwisolver>=1.0.1 in /usr/local/lib/python3.10/dist-packages (from matplotlib->dtale) (1.4.5)\n",
            "Requirement already satisfied: pillow>=6.2.0 in /usr/local/lib/python3.10/dist-packages (from matplotlib->dtale) (9.4.0)\n",
            "Requirement already satisfied: pyparsing>=2.3.1 in /usr/local/lib/python3.10/dist-packages (from matplotlib->dtale) (3.1.1)\n",
            "Requirement already satisfied: python-dateutil>=2.7 in /usr/local/lib/python3.10/dist-packages (from matplotlib->dtale) (2.8.2)\n",
            "Requirement already satisfied: pytz>=2020.1 in /usr/local/lib/python3.10/dist-packages (from pandas->dtale) (2023.3.post1)\n",
            "Requirement already satisfied: charset-normalizer<4,>=2 in /usr/local/lib/python3.10/dist-packages (from requests->dtale) (3.3.2)\n",
            "Requirement already satisfied: idna<4,>=2.5 in /usr/local/lib/python3.10/dist-packages (from requests->dtale) (3.4)\n",
            "Requirement already satisfied: urllib3<3,>=1.21.1 in /usr/local/lib/python3.10/dist-packages (from requests->dtale) (2.0.7)\n",
            "Requirement already satisfied: joblib>=1.1.1 in /usr/local/lib/python3.10/dist-packages (from scikit-learn->dtale) (1.3.2)\n",
            "Requirement already satisfied: threadpoolctl>=2.0.0 in /usr/local/lib/python3.10/dist-packages (from scikit-learn->dtale) (3.2.0)\n",
            "Requirement already satisfied: patsy>=0.5.2 in /usr/local/lib/python3.10/dist-packages (from statsmodels->dtale) (0.5.3)\n",
            "Requirement already satisfied: zipp>=0.5 in /usr/local/lib/python3.10/dist-packages (from importlib-metadata->dash->dtale) (3.17.0)\n",
            "Building wheels for collected packages: dash-colorscales, dash-daq\n",
            "  Building wheel for dash-colorscales (setup.py) ... \u001b[?25l\u001b[?25hdone\n",
            "  Created wheel for dash-colorscales: filename=dash_colorscales-0.0.4-py3-none-any.whl size=62565 sha256=8ee61800dc2e4713e25bc50c8aab9f505df9694d06d3b535cb73b2355baa913f\n",
            "  Stored in directory: /root/.cache/pip/wheels/70/6a/1f/95b2135cd2c895f0cd8b5d6d6ae7d5ed0a883580b34a31a14d\n",
            "  Building wheel for dash-daq (setup.py) ... \u001b[?25l\u001b[?25hdone\n",
            "  Created wheel for dash-daq: filename=dash_daq-0.5.0-py3-none-any.whl size=669690 sha256=a584e7ee59cdc3f61e3252565ef3748bfed379ba6ec53c7083c0b3a6eac124fa\n",
            "  Stored in directory: /root/.cache/pip/wheels/75/14/1b/208d09d5e239391048bdc167759977b41ba65a3d4063aebf6b\n",
            "Successfully built dash-colorscales dash-daq\n",
            "Installing collected packages: strsimpy, squarify, kaleido, dash-table, dash-html-components, dash-core-components, dash-colorscales, brotli, werkzeug, retrying, lz4, ansi2html, flask-ngrok, Flask-Compress, dash, dash-daq, dash-bootstrap-components, dtale\n",
            "  Attempting uninstall: werkzeug\n",
            "    Found existing installation: Werkzeug 3.0.1\n",
            "    Uninstalling Werkzeug-3.0.1:\n",
            "      Successfully uninstalled Werkzeug-3.0.1\n",
            "\u001b[31mERROR: pip's dependency resolver does not currently take into account all the packages that are installed. This behaviour is the source of the following dependency conflicts.\n",
            "lida 0.0.10 requires fastapi, which is not installed.\n",
            "lida 0.0.10 requires python-multipart, which is not installed.\n",
            "lida 0.0.10 requires uvicorn, which is not installed.\u001b[0m\u001b[31m\n",
            "\u001b[0mSuccessfully installed Flask-Compress-1.14 ansi2html-1.8.0 brotli-1.1.0 dash-2.14.1 dash-bootstrap-components-1.3.1 dash-colorscales-0.0.4 dash-core-components-2.0.0 dash-daq-0.5.0 dash-html-components-2.0.0 dash-table-5.0.0 dtale-3.7.0 flask-ngrok-0.0.25 kaleido-0.2.1 lz4-4.3.2 retrying-1.3.4 squarify-0.4.3 strsimpy-0.2.1 werkzeug-2.2.3\n"
          ]
        }
      ],
      "source": [
        "pip install dtale"
      ]
    },
    {
      "cell_type": "code",
      "execution_count": null,
      "metadata": {
        "id": "Rsgjn7WZVJJ4"
      },
      "outputs": [],
      "source": []
    },
    {
      "cell_type": "code",
      "execution_count": null,
      "metadata": {
        "id": "8BlXZJt_VJJ5"
      },
      "outputs": [],
      "source": []
    },
    {
      "cell_type": "code",
      "execution_count": null,
      "metadata": {
        "id": "fVjJerS1VJJ5"
      },
      "outputs": [],
      "source": []
    },
    {
      "cell_type": "markdown",
      "metadata": {
        "id": "u0vucnGFVJJ5"
      },
      "source": [
        "## Data Preparation and Cleaning\n",
        "\n",
        "Before we proceed to loading the data into EDA, we must process and clean the data. In this section, we handle missing, incorrect or invalid data. We also remove irrelevant data and convert data types.\n",
        "\n",
        "Data preparation and cleaning will need to perform before loading in to EDA\n"
      ]
    },
    {
      "cell_type": "markdown",
      "metadata": {
        "id": "gBzC1JheVJJ5"
      },
      "source": [
        "> Overview:\n",
        ">\n",
        "> - Load the dataset into a data frame using Pandas\n",
        "> - Explore the number of rows & columns, ranges of values etc.\n",
        "> - Handle missing, incorrect and invalid data\n",
        "> - Perform any additional steps (parsing dates, creating additional columns, merging multiple dataset etc.)"
      ]
    },
    {
      "cell_type": "code",
      "execution_count": null,
      "metadata": {
        "id": "df5R-2s3VJJ5",
        "colab": {
          "base_uri": "https://localhost:8080/"
        },
        "outputId": "93841fb6-1f13-4ffe-82c0-6d356c060781"
      },
      "outputs": [
        {
          "output_type": "stream",
          "name": "stderr",
          "text": [
            "Computing getitem-sum-sum-aggregate-e1b9117211e16d93cb52621361a330eb:  55%|█████▍    | 874/1603 [00:01<00:00, 858.14it/s]/usr/local/lib/python3.10/dist-packages/dask/core.py:121: RuntimeWarning: invalid value encountered in divide\n",
            "  return func(*(_execute_task(a, cache) for a in args))\n",
            "/usr/local/lib/python3.10/dist-packages/dataprep/eda/distribution/render.py:274: FutureWarning: The frame.append method is deprecated and will be removed from pandas in a future version. Use pandas.concat instead.\n",
            "  df = df.append(pd.DataFrame({col: [nrows - npresent]}, index=[\"Others\"]))\n",
            "/usr/local/lib/python3.10/dist-packages/dataprep/eda/distribution/render.py:274: FutureWarning: The frame.append method is deprecated and will be removed from pandas in a future version. Use pandas.concat instead.\n",
            "  df = df.append(pd.DataFrame({col: [nrows - npresent]}, index=[\"Others\"]))\n",
            "/usr/local/lib/python3.10/dist-packages/dataprep/eda/distribution/render.py:274: FutureWarning: The frame.append method is deprecated and will be removed from pandas in a future version. Use pandas.concat instead.\n",
            "  df = df.append(pd.DataFrame({col: [nrows - npresent]}, index=[\"Others\"]))\n",
            "/usr/local/lib/python3.10/dist-packages/dataprep/eda/distribution/render.py:274: FutureWarning: The frame.append method is deprecated and will be removed from pandas in a future version. Use pandas.concat instead.\n",
            "  df = df.append(pd.DataFrame({col: [nrows - npresent]}, index=[\"Others\"]))\n",
            "/usr/local/lib/python3.10/dist-packages/dataprep/eda/distribution/render.py:274: FutureWarning: The frame.append method is deprecated and will be removed from pandas in a future version. Use pandas.concat instead.\n",
            "  df = df.append(pd.DataFrame({col: [nrows - npresent]}, index=[\"Others\"]))\n",
            "/usr/local/lib/python3.10/dist-packages/dataprep/eda/distribution/render.py:274: FutureWarning: The frame.append method is deprecated and will be removed from pandas in a future version. Use pandas.concat instead.\n",
            "  df = df.append(pd.DataFrame({col: [nrows - npresent]}, index=[\"Others\"]))\n",
            "/usr/local/lib/python3.10/dist-packages/dataprep/eda/distribution/render.py:274: FutureWarning: The frame.append method is deprecated and will be removed from pandas in a future version. Use pandas.concat instead.\n",
            "  df = df.append(pd.DataFrame({col: [nrows - npresent]}, index=[\"Others\"]))\n",
            "/usr/local/lib/python3.10/dist-packages/dataprep/eda/distribution/render.py:274: FutureWarning: The frame.append method is deprecated and will be removed from pandas in a future version. Use pandas.concat instead.\n",
            "  df = df.append(pd.DataFrame({col: [nrows - npresent]}, index=[\"Others\"]))\n",
            "/usr/local/lib/python3.10/dist-packages/dataprep/eda/distribution/render.py:274: FutureWarning: The frame.append method is deprecated and will be removed from pandas in a future version. Use pandas.concat instead.\n",
            "  df = df.append(pd.DataFrame({col: [nrows - npresent]}, index=[\"Others\"]))\n",
            "/usr/local/lib/python3.10/dist-packages/dataprep/eda/distribution/render.py:274: FutureWarning: The frame.append method is deprecated and will be removed from pandas in a future version. Use pandas.concat instead.\n",
            "  df = df.append(pd.DataFrame({col: [nrows - npresent]}, index=[\"Others\"]))\n"
          ]
        }
      ],
      "source": [
        "from dataprep.datasets import load_dataset\n",
        "from dataprep.eda import create_report\n",
        "#df = load_dataset(\"titanic\")\n",
        "create_report(df).show_browser()"
      ]
    },
    {
      "cell_type": "markdown",
      "source": [
        "### Data Understanding"
      ],
      "metadata": {
        "id": "KlusVrsnQcbq"
      }
    },
    {
      "cell_type": "markdown",
      "source": [
        "Study and view the first 5 row of data and attributes"
      ],
      "metadata": {
        "id": "pF1Gl84MQtOH"
      }
    },
    {
      "cell_type": "code",
      "source": [],
      "metadata": {
        "id": "QOtrFspWQ2zi"
      },
      "execution_count": null,
      "outputs": []
    },
    {
      "cell_type": "markdown",
      "source": [
        "### Data Type Preprocessing"
      ],
      "metadata": {
        "id": "cMNGCco5QlAo"
      }
    },
    {
      "cell_type": "markdown",
      "source": [
        "Before convert the data type into the wanted. Some data preprocessing needed. Remove the 'RM'and 'per month' in ' Monthly_' column and before convert from object to float."
      ],
      "metadata": {
        "id": "pLOS9mCeQzjB"
      }
    },
    {
      "cell_type": "code",
      "source": [],
      "metadata": {
        "id": "TvzZdzRVQzFi"
      },
      "execution_count": null,
      "outputs": []
    },
    {
      "cell_type": "markdown",
      "source": [
        "### Duplicate Values"
      ],
      "metadata": {
        "id": "jJhTwvEdQnKC"
      }
    },
    {
      "cell_type": "markdown",
      "source": [],
      "metadata": {
        "id": "nUn_yhR4Qntk"
      }
    },
    {
      "cell_type": "code",
      "execution_count": null,
      "metadata": {
        "id": "t26lvNVLVJJ5"
      },
      "outputs": [],
      "source": []
    },
    {
      "cell_type": "markdown",
      "source": [
        "### Missing Values"
      ],
      "metadata": {
        "id": "_sC-ovGjRQpn"
      }
    },
    {
      "cell_type": "markdown",
      "source": [
        "Checking and count for missing value and null value"
      ],
      "metadata": {
        "id": "0TvA_GBMRPs-"
      }
    },
    {
      "cell_type": "code",
      "execution_count": null,
      "metadata": {
        "id": "KribcC_XVJJ5"
      },
      "outputs": [],
      "source": []
    },
    {
      "cell_type": "code",
      "execution_count": null,
      "metadata": {
        "id": "7mUpY22aVJJ6"
      },
      "outputs": [],
      "source": []
    },
    {
      "cell_type": "code",
      "execution_count": null,
      "metadata": {
        "id": "h46ilQakVJJ6"
      },
      "outputs": [],
      "source": []
    },
    {
      "cell_type": "code",
      "execution_count": null,
      "metadata": {
        "id": "cfcSY6YSVJJ6"
      },
      "outputs": [],
      "source": []
    },
    {
      "cell_type": "code",
      "execution_count": null,
      "metadata": {
        "id": "HsDyuPIgVJJ6"
      },
      "outputs": [],
      "source": []
    },
    {
      "cell_type": "code",
      "execution_count": null,
      "metadata": {
        "id": "1Et9QhCbVJJ6"
      },
      "outputs": [],
      "source": []
    },
    {
      "cell_type": "code",
      "execution_count": null,
      "metadata": {
        "id": "yBxDax1KVJJ6"
      },
      "outputs": [],
      "source": []
    },
    {
      "cell_type": "markdown",
      "metadata": {
        "id": "_0m5LkbVVJJ6"
      },
      "source": [
        "## Exploratory Analysis and Visualization\n",
        "\n",
        "**TODO** - write some explanation here.\n",
        "\n"
      ]
    },
    {
      "cell_type": "markdown",
      "metadata": {
        "id": "6knKGHajVJJ6"
      },
      "source": [
        "> Instructions (delete this cell)\n",
        ">\n",
        "> - Compute the mean, sum, range and other interesting statistics for numeric columns\n",
        "> - Explore distributions of numeric columns using histograms etc.\n",
        "> - Explore relationship between columns using scatter plots, bar charts etc.\n",
        "> - Make a note of interesting insights from the exploratory analysis"
      ]
    },
    {
      "cell_type": "markdown",
      "metadata": {
        "id": "RuPTpsGWVJJ7"
      },
      "source": [
        "Let's begin by importing`matplotlib.pyplot` and `seaborn`."
      ]
    },
    {
      "cell_type": "code",
      "execution_count": null,
      "metadata": {
        "id": "zOTtwqAMVJJ7"
      },
      "outputs": [],
      "source": [
        "import seaborn as sns\n",
        "import matplotlib\n",
        "import matplotlib.pyplot as plt\n",
        "%matplotlib inline\n",
        "\n",
        "sns.set_style('darkgrid')\n",
        "matplotlib.rcParams['font.size'] = 14\n",
        "matplotlib.rcParams['figure.figsize'] = (9, 5)\n",
        "matplotlib.rcParams['figure.facecolor'] = '#00000000'"
      ]
    },
    {
      "cell_type": "markdown",
      "metadata": {
        "id": "Fv4NPHasVJJ7"
      },
      "source": [
        "**TODO** - Explore one or more columns by plotting a graph below, and add some explanation about it"
      ]
    },
    {
      "cell_type": "code",
      "execution_count": null,
      "metadata": {
        "id": "NKN6RIplVJJ7"
      },
      "outputs": [],
      "source": []
    },
    {
      "cell_type": "code",
      "execution_count": null,
      "metadata": {
        "id": "-Scf_lKnVJJ7"
      },
      "outputs": [],
      "source": []
    },
    {
      "cell_type": "markdown",
      "metadata": {
        "id": "Dn_AW-5uVJJ7"
      },
      "source": [
        "**TODO** - Explore one or more columns by plotting a graph below, and add some explanation about it"
      ]
    },
    {
      "cell_type": "code",
      "execution_count": null,
      "metadata": {
        "id": "c7fugjWzVJJ7"
      },
      "outputs": [],
      "source": []
    },
    {
      "cell_type": "code",
      "execution_count": null,
      "metadata": {
        "id": "pPnlFwy2VJJ7"
      },
      "outputs": [],
      "source": []
    },
    {
      "cell_type": "markdown",
      "metadata": {
        "id": "rN1bUu8RVJJ7"
      },
      "source": [
        "**TODO** - Explore one or more columns by plotting a graph below, and add some explanation about it"
      ]
    },
    {
      "cell_type": "code",
      "execution_count": null,
      "metadata": {
        "id": "kMrm6CiAVJJ8"
      },
      "outputs": [],
      "source": []
    },
    {
      "cell_type": "code",
      "execution_count": null,
      "metadata": {
        "id": "RSt7KlcfVJJ8"
      },
      "outputs": [],
      "source": []
    },
    {
      "cell_type": "markdown",
      "metadata": {
        "id": "tLNLw0EOVJJ8"
      },
      "source": [
        "**TODO** - Explore one or more columns by plotting a graph below, and add some explanation about it"
      ]
    },
    {
      "cell_type": "code",
      "execution_count": null,
      "metadata": {
        "id": "61sgf555VJJ8"
      },
      "outputs": [],
      "source": []
    },
    {
      "cell_type": "code",
      "execution_count": null,
      "metadata": {
        "id": "fOQ9cTWiVJJ8"
      },
      "outputs": [],
      "source": []
    },
    {
      "cell_type": "markdown",
      "metadata": {
        "id": "nt_CVhi-VJJ8"
      },
      "source": [
        "**TODO** - Explore one or more columns by plotting a graph below, and add some explanation about it"
      ]
    },
    {
      "cell_type": "code",
      "execution_count": null,
      "metadata": {
        "id": "Zatc4Si_VJJ8"
      },
      "outputs": [],
      "source": []
    },
    {
      "cell_type": "code",
      "execution_count": null,
      "metadata": {
        "id": "RBYoxztOVJJ8"
      },
      "outputs": [],
      "source": []
    },
    {
      "cell_type": "markdown",
      "metadata": {
        "id": "E0U3IWm8VJJ9"
      },
      "source": [
        "## Asking and Answering Questions\n",
        "\n",
        "In this section, we will simulate some business problem which stakeholders are intrested to understand more.\n",
        "\n",
        "We will ask 10 questions about the dataset which needed to declare and analysis and answer them using various Python libraries functions.\n",
        "\n"
      ]
    },
    {
      "cell_type": "markdown",
      "metadata": {
        "id": "7Lor5rHMVJJ9"
      },
      "source": [
        "#### Q1: How many type of property type and list out the property type?"
      ]
    },
    {
      "cell_type": "code",
      "execution_count": null,
      "metadata": {
        "id": "D-PdOKqCVJJ9"
      },
      "outputs": [],
      "source": []
    },
    {
      "cell_type": "code",
      "execution_count": null,
      "metadata": {
        "id": "pR1HdQ4JVJJ9"
      },
      "outputs": [],
      "source": []
    },
    {
      "cell_type": "code",
      "execution_count": null,
      "metadata": {
        "id": "LKIZxnawVJJ9"
      },
      "outputs": [],
      "source": []
    },
    {
      "cell_type": "markdown",
      "metadata": {
        "id": "c_REVnrhVJJ-"
      },
      "source": [
        "#### Q2: How many type of furnishing status and list out the status?"
      ]
    },
    {
      "cell_type": "code",
      "execution_count": null,
      "metadata": {
        "id": "ShA3QyQpVJJ-"
      },
      "outputs": [],
      "source": []
    },
    {
      "cell_type": "code",
      "execution_count": null,
      "metadata": {
        "id": "dvyLd9MdVJJ-"
      },
      "outputs": [],
      "source": []
    },
    {
      "cell_type": "code",
      "execution_count": null,
      "metadata": {
        "id": "tdjrhzySVJJ-"
      },
      "outputs": [],
      "source": []
    },
    {
      "cell_type": "markdown",
      "metadata": {
        "id": "ya3o0SurVJJ-"
      },
      "source": [
        "#### Q3: How many rental units available by each property type?"
      ]
    },
    {
      "cell_type": "code",
      "execution_count": null,
      "metadata": {
        "id": "CaF9SiPeVJJ-"
      },
      "outputs": [],
      "source": []
    },
    {
      "cell_type": "code",
      "execution_count": null,
      "metadata": {
        "id": "bGV1nEzqVJJ-"
      },
      "outputs": [],
      "source": []
    },
    {
      "cell_type": "code",
      "execution_count": null,
      "metadata": {
        "id": "1y8gWqGcVJJ-"
      },
      "outputs": [],
      "source": []
    },
    {
      "cell_type": "markdown",
      "metadata": {
        "id": "p4CcVO1TVJJ-"
      },
      "source": [
        "#### Q4: How many rental units available by each property location?"
      ]
    },
    {
      "cell_type": "code",
      "execution_count": null,
      "metadata": {
        "id": "Wa96BGX1VJJ-"
      },
      "outputs": [],
      "source": []
    },
    {
      "cell_type": "code",
      "execution_count": null,
      "metadata": {
        "id": "R_C78KePVJJ-"
      },
      "outputs": [],
      "source": []
    },
    {
      "cell_type": "code",
      "execution_count": null,
      "metadata": {
        "id": "i4iTQAxBVJJ_"
      },
      "outputs": [],
      "source": []
    },
    {
      "cell_type": "markdown",
      "metadata": {
        "id": "uFuZBqX1VJJ_"
      },
      "source": [
        "#### Q5: Make 2 columns with property name and age of property as of now (year 2023)."
      ]
    },
    {
      "cell_type": "code",
      "execution_count": null,
      "metadata": {
        "id": "0XCOkgIHVJJ_"
      },
      "outputs": [],
      "source": []
    },
    {
      "cell_type": "code",
      "execution_count": null,
      "metadata": {
        "id": "xZWIg8jJVJJ_"
      },
      "outputs": [],
      "source": []
    },
    {
      "cell_type": "code",
      "execution_count": null,
      "metadata": {
        "id": "MMExemAYVJJ_"
      },
      "outputs": [],
      "source": []
    },
    {
      "cell_type": "markdown",
      "metadata": {
        "id": "11SOFVFIRrMC"
      },
      "source": [
        "#### Q6: What is the monthly rental price range for each property type?"
      ]
    },
    {
      "cell_type": "code",
      "execution_count": null,
      "metadata": {
        "id": "BJHys6qLRrMh"
      },
      "outputs": [],
      "source": []
    },
    {
      "cell_type": "code",
      "execution_count": null,
      "metadata": {
        "id": "Hdp461oeRrMh"
      },
      "outputs": [],
      "source": []
    },
    {
      "cell_type": "code",
      "execution_count": null,
      "metadata": {
        "id": "BywSft5mRrMi"
      },
      "outputs": [],
      "source": []
    },
    {
      "cell_type": "code",
      "source": [],
      "metadata": {
        "id": "B03InVdRSOK1"
      },
      "execution_count": null,
      "outputs": []
    },
    {
      "cell_type": "markdown",
      "metadata": {
        "id": "Ndt9jKguRrs3"
      },
      "source": [
        "#### Q7: What is the size range for each property type?"
      ]
    },
    {
      "cell_type": "code",
      "execution_count": null,
      "metadata": {
        "id": "Z9cHwc5sRrs6"
      },
      "outputs": [],
      "source": []
    },
    {
      "cell_type": "code",
      "execution_count": null,
      "metadata": {
        "id": "Y9cjp2rWRrs7"
      },
      "outputs": [],
      "source": []
    },
    {
      "cell_type": "code",
      "execution_count": null,
      "metadata": {
        "id": "b6IO4UyzRrs7"
      },
      "outputs": [],
      "source": []
    },
    {
      "cell_type": "markdown",
      "metadata": {
        "id": "1WPAFmQoRsvl"
      },
      "source": [
        "#### Q8: What is the monthly rental price range for each property location?"
      ]
    },
    {
      "cell_type": "code",
      "execution_count": null,
      "metadata": {
        "id": "659ZmsKqRswJ"
      },
      "outputs": [],
      "source": []
    },
    {
      "cell_type": "code",
      "execution_count": null,
      "metadata": {
        "id": "0g6PnrmJRswJ"
      },
      "outputs": [],
      "source": []
    },
    {
      "cell_type": "code",
      "execution_count": null,
      "metadata": {
        "id": "VOYV328NRswK"
      },
      "outputs": [],
      "source": []
    },
    {
      "cell_type": "markdown",
      "metadata": {
        "id": "eDxcObKFRs_a"
      },
      "source": [
        "#### Q9: How many units have at least 3 rooms and 2 bathrooms, and what is their monthly rental price range?"
      ]
    },
    {
      "cell_type": "code",
      "execution_count": null,
      "metadata": {
        "id": "BUFmSY1ARs_b"
      },
      "outputs": [],
      "source": []
    },
    {
      "cell_type": "code",
      "execution_count": null,
      "metadata": {
        "id": "2zK4kZR7Rs_b"
      },
      "outputs": [],
      "source": []
    },
    {
      "cell_type": "code",
      "execution_count": null,
      "metadata": {
        "id": "yh0a48ANRs_c"
      },
      "outputs": [],
      "source": []
    },
    {
      "cell_type": "markdown",
      "metadata": {
        "id": "UVfVY9j0RtM2"
      },
      "source": [
        "#### Q10: What is the relationship between size of unit and its monthly rental price?"
      ]
    },
    {
      "cell_type": "code",
      "execution_count": null,
      "metadata": {
        "id": "29wMwL9xRtM3"
      },
      "outputs": [],
      "source": []
    },
    {
      "cell_type": "code",
      "execution_count": null,
      "metadata": {
        "id": "T0Gty9XIRtM4"
      },
      "outputs": [],
      "source": []
    },
    {
      "cell_type": "code",
      "execution_count": null,
      "metadata": {
        "id": "2A-jEBHVRtM4"
      },
      "outputs": [],
      "source": []
    },
    {
      "cell_type": "markdown",
      "metadata": {
        "id": "xfuc6sJgVJKA"
      },
      "source": [
        "## References and Future Work\n",
        "\n",
        "**TODO** - Write some explanation here: ideas for future projects using this dataset, and links to resources you found useful."
      ]
    },
    {
      "cell_type": "markdown",
      "metadata": {
        "id": "s9w8LQGaVJKA"
      },
      "source": [
        "> Submission Instructions (delete this cell)\n",
        ">\n",
        "> - Upload your notebook to E-learning\n",
        "\n",
        "\n"
      ]
    },
    {
      "cell_type": "code",
      "execution_count": null,
      "metadata": {
        "id": "OuvFcAJoVJKA"
      },
      "outputs": [],
      "source": []
    },
    {
      "cell_type": "code",
      "execution_count": null,
      "metadata": {
        "id": "VWI2hEA1VJKA",
        "scrolled": true
      },
      "outputs": [],
      "source": []
    },
    {
      "cell_type": "code",
      "execution_count": null,
      "metadata": {
        "id": "VT58I-b9VJKB"
      },
      "outputs": [],
      "source": []
    }
  ],
  "metadata": {
    "colab": {
      "provenance": [],
      "toc_visible": true,
      "include_colab_link": true
    },
    "kernelspec": {
      "display_name": "Python 3",
      "language": "python",
      "name": "python3"
    },
    "language_info": {
      "codemirror_mode": {
        "name": "ipython",
        "version": 3
      },
      "file_extension": ".py",
      "mimetype": "text/x-python",
      "name": "python",
      "nbconvert_exporter": "python",
      "pygments_lexer": "ipython3",
      "version": "3.8.5"
    }
  },
  "nbformat": 4,
  "nbformat_minor": 0
}